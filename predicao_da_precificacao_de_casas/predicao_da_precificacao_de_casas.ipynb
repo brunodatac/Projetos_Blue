{
 "cells": [
  {
   "cell_type": "markdown",
   "metadata": {},
   "source": [
    "## Predição da precificação de casas \n",
    "### House Sales in King County, USA - Kaggle"
   ]
  },
  {
   "cell_type": "markdown",
   "metadata": {},
   "source": [
    "### Introdução"
   ]
  },
  {
   "cell_type": "markdown",
   "metadata": {},
   "source": [
    "Este é um conjunto de dados armazenado no Kaggle, uma plataforma de estudo e competições de Ciência de Dados. Segue a tradução sobre o conjunto de dados.\n",
    "\n",
    "**\"Este conjunto de dados contém preços de venda de casas para King County, que inclui Seattle. Inclui casas vendidas entre maio de 2014 e maio de 2015.\"**\n",
    "\n",
    "Segue a descrição das variaveis:\n",
    "\n",
    "- id - identificação unica para cada venda\n",
    "- date - data da venda\n",
    "- price - preço da venda\n",
    "- bedrooms - número de quartos\n",
    "- bathrooms - número de banheiros\n",
    "- sqft_living - tamanho da casa em metros quadrados\n",
    "- sqft_lot - tamanho do lote em metros quadrados\n",
    "- floors - número de andares\n",
    "- waterfront - vista para praia\n",
    "- view - visitado\n",
    "- condition - condição da casa\n",
    "- grade - nota de qualidade (baseado no sistema de classificação do King County)\n",
    "- sqft_above - tamanho da área abaixo da casa em metros quadrados\n",
    "- sqft_basement - tamanho do porão em metros quadrados\n",
    "- yr_built - ano de construção\n",
    "- yr_renovated - ano da ultima reforma\n",
    "- zipcode - CEP\n",
    "- lat - latitude\n",
    "- long - longitude\n",
    "- sqft_living15 - área da casa em 2015 (implica a algumas reformas). Isso pode ou não ter afetado a área do lote\n",
    "- sqft_lot15 - área do lote em 2015 (implica a algumas reformas)"
   ]
  },
  {
   "cell_type": "markdown",
   "metadata": {},
   "source": [
    "### Preparação do ambiente\n",
    "\n",
    "- Link para o dataset - https://www.kaggle.com/datasets/harlfoxem/housesalesprediction."
   ]
  },
  {
   "cell_type": "code",
   "execution_count": 2,
   "metadata": {},
   "outputs": [],
   "source": [
    "import pandas as pd\n",
    "import matplotlib.pyplot as plt\n",
    "import numpy as np\n",
    "import seaborn as sns"
   ]
  },
  {
   "cell_type": "code",
   "execution_count": 3,
   "metadata": {},
   "outputs": [
    {
     "data": {
      "text/html": [
       "<div>\n",
       "<style scoped>\n",
       "    .dataframe tbody tr th:only-of-type {\n",
       "        vertical-align: middle;\n",
       "    }\n",
       "\n",
       "    .dataframe tbody tr th {\n",
       "        vertical-align: top;\n",
       "    }\n",
       "\n",
       "    .dataframe thead th {\n",
       "        text-align: right;\n",
       "    }\n",
       "</style>\n",
       "<table border=\"1\" class=\"dataframe\">\n",
       "  <thead>\n",
       "    <tr style=\"text-align: right;\">\n",
       "      <th></th>\n",
       "      <th>id</th>\n",
       "      <th>date</th>\n",
       "      <th>price</th>\n",
       "      <th>bedrooms</th>\n",
       "      <th>bathrooms</th>\n",
       "      <th>sqft_living</th>\n",
       "      <th>sqft_lot</th>\n",
       "      <th>floors</th>\n",
       "      <th>waterfront</th>\n",
       "      <th>view</th>\n",
       "      <th>...</th>\n",
       "      <th>grade</th>\n",
       "      <th>sqft_above</th>\n",
       "      <th>sqft_basement</th>\n",
       "      <th>yr_built</th>\n",
       "      <th>yr_renovated</th>\n",
       "      <th>zipcode</th>\n",
       "      <th>lat</th>\n",
       "      <th>long</th>\n",
       "      <th>sqft_living15</th>\n",
       "      <th>sqft_lot15</th>\n",
       "    </tr>\n",
       "  </thead>\n",
       "  <tbody>\n",
       "    <tr>\n",
       "      <th>0</th>\n",
       "      <td>7129300520</td>\n",
       "      <td>20141013T000000</td>\n",
       "      <td>221900.0</td>\n",
       "      <td>3</td>\n",
       "      <td>1.00</td>\n",
       "      <td>1180</td>\n",
       "      <td>5650</td>\n",
       "      <td>1.0</td>\n",
       "      <td>0</td>\n",
       "      <td>0</td>\n",
       "      <td>...</td>\n",
       "      <td>7</td>\n",
       "      <td>1180</td>\n",
       "      <td>0</td>\n",
       "      <td>1955</td>\n",
       "      <td>0</td>\n",
       "      <td>98178</td>\n",
       "      <td>47.5112</td>\n",
       "      <td>-122.257</td>\n",
       "      <td>1340</td>\n",
       "      <td>5650</td>\n",
       "    </tr>\n",
       "    <tr>\n",
       "      <th>1</th>\n",
       "      <td>6414100192</td>\n",
       "      <td>20141209T000000</td>\n",
       "      <td>538000.0</td>\n",
       "      <td>3</td>\n",
       "      <td>2.25</td>\n",
       "      <td>2570</td>\n",
       "      <td>7242</td>\n",
       "      <td>2.0</td>\n",
       "      <td>0</td>\n",
       "      <td>0</td>\n",
       "      <td>...</td>\n",
       "      <td>7</td>\n",
       "      <td>2170</td>\n",
       "      <td>400</td>\n",
       "      <td>1951</td>\n",
       "      <td>1991</td>\n",
       "      <td>98125</td>\n",
       "      <td>47.7210</td>\n",
       "      <td>-122.319</td>\n",
       "      <td>1690</td>\n",
       "      <td>7639</td>\n",
       "    </tr>\n",
       "    <tr>\n",
       "      <th>2</th>\n",
       "      <td>5631500400</td>\n",
       "      <td>20150225T000000</td>\n",
       "      <td>180000.0</td>\n",
       "      <td>2</td>\n",
       "      <td>1.00</td>\n",
       "      <td>770</td>\n",
       "      <td>10000</td>\n",
       "      <td>1.0</td>\n",
       "      <td>0</td>\n",
       "      <td>0</td>\n",
       "      <td>...</td>\n",
       "      <td>6</td>\n",
       "      <td>770</td>\n",
       "      <td>0</td>\n",
       "      <td>1933</td>\n",
       "      <td>0</td>\n",
       "      <td>98028</td>\n",
       "      <td>47.7379</td>\n",
       "      <td>-122.233</td>\n",
       "      <td>2720</td>\n",
       "      <td>8062</td>\n",
       "    </tr>\n",
       "    <tr>\n",
       "      <th>3</th>\n",
       "      <td>2487200875</td>\n",
       "      <td>20141209T000000</td>\n",
       "      <td>604000.0</td>\n",
       "      <td>4</td>\n",
       "      <td>3.00</td>\n",
       "      <td>1960</td>\n",
       "      <td>5000</td>\n",
       "      <td>1.0</td>\n",
       "      <td>0</td>\n",
       "      <td>0</td>\n",
       "      <td>...</td>\n",
       "      <td>7</td>\n",
       "      <td>1050</td>\n",
       "      <td>910</td>\n",
       "      <td>1965</td>\n",
       "      <td>0</td>\n",
       "      <td>98136</td>\n",
       "      <td>47.5208</td>\n",
       "      <td>-122.393</td>\n",
       "      <td>1360</td>\n",
       "      <td>5000</td>\n",
       "    </tr>\n",
       "    <tr>\n",
       "      <th>4</th>\n",
       "      <td>1954400510</td>\n",
       "      <td>20150218T000000</td>\n",
       "      <td>510000.0</td>\n",
       "      <td>3</td>\n",
       "      <td>2.00</td>\n",
       "      <td>1680</td>\n",
       "      <td>8080</td>\n",
       "      <td>1.0</td>\n",
       "      <td>0</td>\n",
       "      <td>0</td>\n",
       "      <td>...</td>\n",
       "      <td>8</td>\n",
       "      <td>1680</td>\n",
       "      <td>0</td>\n",
       "      <td>1987</td>\n",
       "      <td>0</td>\n",
       "      <td>98074</td>\n",
       "      <td>47.6168</td>\n",
       "      <td>-122.045</td>\n",
       "      <td>1800</td>\n",
       "      <td>7503</td>\n",
       "    </tr>\n",
       "  </tbody>\n",
       "</table>\n",
       "<p>5 rows × 21 columns</p>\n",
       "</div>"
      ],
      "text/plain": [
       "           id             date     price  bedrooms  bathrooms  sqft_living  \\\n",
       "0  7129300520  20141013T000000  221900.0         3       1.00         1180   \n",
       "1  6414100192  20141209T000000  538000.0         3       2.25         2570   \n",
       "2  5631500400  20150225T000000  180000.0         2       1.00          770   \n",
       "3  2487200875  20141209T000000  604000.0         4       3.00         1960   \n",
       "4  1954400510  20150218T000000  510000.0         3       2.00         1680   \n",
       "\n",
       "   sqft_lot  floors  waterfront  view  ...  grade  sqft_above  sqft_basement  \\\n",
       "0      5650     1.0           0     0  ...      7        1180              0   \n",
       "1      7242     2.0           0     0  ...      7        2170            400   \n",
       "2     10000     1.0           0     0  ...      6         770              0   \n",
       "3      5000     1.0           0     0  ...      7        1050            910   \n",
       "4      8080     1.0           0     0  ...      8        1680              0   \n",
       "\n",
       "   yr_built  yr_renovated  zipcode      lat     long  sqft_living15  \\\n",
       "0      1955             0    98178  47.5112 -122.257           1340   \n",
       "1      1951          1991    98125  47.7210 -122.319           1690   \n",
       "2      1933             0    98028  47.7379 -122.233           2720   \n",
       "3      1965             0    98136  47.5208 -122.393           1360   \n",
       "4      1987             0    98074  47.6168 -122.045           1800   \n",
       "\n",
       "   sqft_lot15  \n",
       "0        5650  \n",
       "1        7639  \n",
       "2        8062  \n",
       "3        5000  \n",
       "4        7503  \n",
       "\n",
       "[5 rows x 21 columns]"
      ]
     },
     "execution_count": 3,
     "metadata": {},
     "output_type": "execute_result"
    }
   ],
   "source": [
    "df = pd.read_csv('kc_house_data.csv')\n",
    "df.head()\n"
   ]
  },
  {
   "cell_type": "markdown",
   "metadata": {},
   "source": [
    "### Tratando os dados"
   ]
  },
  {
   "cell_type": "markdown",
   "metadata": {},
   "source": [
    "Foi observado que as medidas do dataframe estão em pés quadrados, então primeiro será realizado uma conversão para metros quadrados e em seguida uma verificação de valores NaN."
   ]
  },
  {
   "cell_type": "markdown",
   "metadata": {},
   "source": [
    "#### Conversão de pés quadrados para metros quadrados"
   ]
  },
  {
   "cell_type": "code",
   "execution_count": 4,
   "metadata": {},
   "outputs": [
    {
     "data": {
      "text/html": [
       "<div>\n",
       "<style scoped>\n",
       "    .dataframe tbody tr th:only-of-type {\n",
       "        vertical-align: middle;\n",
       "    }\n",
       "\n",
       "    .dataframe tbody tr th {\n",
       "        vertical-align: top;\n",
       "    }\n",
       "\n",
       "    .dataframe thead th {\n",
       "        text-align: right;\n",
       "    }\n",
       "</style>\n",
       "<table border=\"1\" class=\"dataframe\">\n",
       "  <thead>\n",
       "    <tr style=\"text-align: right;\">\n",
       "      <th></th>\n",
       "      <th>id</th>\n",
       "      <th>date</th>\n",
       "      <th>price</th>\n",
       "      <th>bedrooms</th>\n",
       "      <th>bathrooms</th>\n",
       "      <th>sqft_living</th>\n",
       "      <th>sqft_lot</th>\n",
       "      <th>floors</th>\n",
       "      <th>waterfront</th>\n",
       "      <th>view</th>\n",
       "      <th>...</th>\n",
       "      <th>grade</th>\n",
       "      <th>sqft_above</th>\n",
       "      <th>sqft_basement</th>\n",
       "      <th>yr_built</th>\n",
       "      <th>yr_renovated</th>\n",
       "      <th>zipcode</th>\n",
       "      <th>lat</th>\n",
       "      <th>long</th>\n",
       "      <th>sqft_living15</th>\n",
       "      <th>sqft_lot15</th>\n",
       "    </tr>\n",
       "  </thead>\n",
       "  <tbody>\n",
       "    <tr>\n",
       "      <th>0</th>\n",
       "      <td>7129300520</td>\n",
       "      <td>20141013T000000</td>\n",
       "      <td>221900.0</td>\n",
       "      <td>3</td>\n",
       "      <td>1.00</td>\n",
       "      <td>109.625</td>\n",
       "      <td>524.898</td>\n",
       "      <td>1.0</td>\n",
       "      <td>0</td>\n",
       "      <td>0</td>\n",
       "      <td>...</td>\n",
       "      <td>7</td>\n",
       "      <td>109.625</td>\n",
       "      <td>0.000</td>\n",
       "      <td>1955</td>\n",
       "      <td>0</td>\n",
       "      <td>98178</td>\n",
       "      <td>47.5112</td>\n",
       "      <td>-122.257</td>\n",
       "      <td>124.489</td>\n",
       "      <td>524.898</td>\n",
       "    </tr>\n",
       "    <tr>\n",
       "      <th>1</th>\n",
       "      <td>6414100192</td>\n",
       "      <td>20141209T000000</td>\n",
       "      <td>538000.0</td>\n",
       "      <td>3</td>\n",
       "      <td>2.25</td>\n",
       "      <td>238.759</td>\n",
       "      <td>672.798</td>\n",
       "      <td>2.0</td>\n",
       "      <td>0</td>\n",
       "      <td>0</td>\n",
       "      <td>...</td>\n",
       "      <td>7</td>\n",
       "      <td>201.598</td>\n",
       "      <td>37.161</td>\n",
       "      <td>1951</td>\n",
       "      <td>1991</td>\n",
       "      <td>98125</td>\n",
       "      <td>47.7210</td>\n",
       "      <td>-122.319</td>\n",
       "      <td>157.005</td>\n",
       "      <td>709.680</td>\n",
       "    </tr>\n",
       "    <tr>\n",
       "      <th>2</th>\n",
       "      <td>5631500400</td>\n",
       "      <td>20150225T000000</td>\n",
       "      <td>180000.0</td>\n",
       "      <td>2</td>\n",
       "      <td>1.00</td>\n",
       "      <td>71.535</td>\n",
       "      <td>929.023</td>\n",
       "      <td>1.0</td>\n",
       "      <td>0</td>\n",
       "      <td>0</td>\n",
       "      <td>...</td>\n",
       "      <td>6</td>\n",
       "      <td>71.535</td>\n",
       "      <td>0.000</td>\n",
       "      <td>1933</td>\n",
       "      <td>0</td>\n",
       "      <td>98028</td>\n",
       "      <td>47.7379</td>\n",
       "      <td>-122.233</td>\n",
       "      <td>252.694</td>\n",
       "      <td>748.978</td>\n",
       "    </tr>\n",
       "    <tr>\n",
       "      <th>3</th>\n",
       "      <td>2487200875</td>\n",
       "      <td>20141209T000000</td>\n",
       "      <td>604000.0</td>\n",
       "      <td>4</td>\n",
       "      <td>3.00</td>\n",
       "      <td>182.088</td>\n",
       "      <td>464.511</td>\n",
       "      <td>1.0</td>\n",
       "      <td>0</td>\n",
       "      <td>0</td>\n",
       "      <td>...</td>\n",
       "      <td>7</td>\n",
       "      <td>97.547</td>\n",
       "      <td>84.541</td>\n",
       "      <td>1965</td>\n",
       "      <td>0</td>\n",
       "      <td>98136</td>\n",
       "      <td>47.5208</td>\n",
       "      <td>-122.393</td>\n",
       "      <td>126.347</td>\n",
       "      <td>464.511</td>\n",
       "    </tr>\n",
       "    <tr>\n",
       "      <th>4</th>\n",
       "      <td>1954400510</td>\n",
       "      <td>20150218T000000</td>\n",
       "      <td>510000.0</td>\n",
       "      <td>3</td>\n",
       "      <td>2.00</td>\n",
       "      <td>156.076</td>\n",
       "      <td>750.650</td>\n",
       "      <td>1.0</td>\n",
       "      <td>0</td>\n",
       "      <td>0</td>\n",
       "      <td>...</td>\n",
       "      <td>8</td>\n",
       "      <td>156.076</td>\n",
       "      <td>0.000</td>\n",
       "      <td>1987</td>\n",
       "      <td>0</td>\n",
       "      <td>98074</td>\n",
       "      <td>47.6168</td>\n",
       "      <td>-122.045</td>\n",
       "      <td>167.224</td>\n",
       "      <td>697.046</td>\n",
       "    </tr>\n",
       "    <tr>\n",
       "      <th>5</th>\n",
       "      <td>7237550310</td>\n",
       "      <td>20140512T000000</td>\n",
       "      <td>1225000.0</td>\n",
       "      <td>4</td>\n",
       "      <td>4.50</td>\n",
       "      <td>503.530</td>\n",
       "      <td>9469.528</td>\n",
       "      <td>1.0</td>\n",
       "      <td>0</td>\n",
       "      <td>0</td>\n",
       "      <td>...</td>\n",
       "      <td>11</td>\n",
       "      <td>361.390</td>\n",
       "      <td>142.140</td>\n",
       "      <td>2001</td>\n",
       "      <td>0</td>\n",
       "      <td>98053</td>\n",
       "      <td>47.6561</td>\n",
       "      <td>-122.005</td>\n",
       "      <td>442.215</td>\n",
       "      <td>9469.528</td>\n",
       "    </tr>\n",
       "    <tr>\n",
       "      <th>6</th>\n",
       "      <td>1321400060</td>\n",
       "      <td>20140627T000000</td>\n",
       "      <td>257500.0</td>\n",
       "      <td>3</td>\n",
       "      <td>2.25</td>\n",
       "      <td>159.327</td>\n",
       "      <td>633.501</td>\n",
       "      <td>2.0</td>\n",
       "      <td>0</td>\n",
       "      <td>0</td>\n",
       "      <td>...</td>\n",
       "      <td>7</td>\n",
       "      <td>159.327</td>\n",
       "      <td>0.000</td>\n",
       "      <td>1995</td>\n",
       "      <td>0</td>\n",
       "      <td>98003</td>\n",
       "      <td>47.3097</td>\n",
       "      <td>-122.327</td>\n",
       "      <td>207.915</td>\n",
       "      <td>633.501</td>\n",
       "    </tr>\n",
       "    <tr>\n",
       "      <th>7</th>\n",
       "      <td>2008000270</td>\n",
       "      <td>20150115T000000</td>\n",
       "      <td>291850.0</td>\n",
       "      <td>3</td>\n",
       "      <td>1.50</td>\n",
       "      <td>98.476</td>\n",
       "      <td>902.174</td>\n",
       "      <td>1.0</td>\n",
       "      <td>0</td>\n",
       "      <td>0</td>\n",
       "      <td>...</td>\n",
       "      <td>7</td>\n",
       "      <td>98.476</td>\n",
       "      <td>0.000</td>\n",
       "      <td>1963</td>\n",
       "      <td>0</td>\n",
       "      <td>98198</td>\n",
       "      <td>47.4095</td>\n",
       "      <td>-122.315</td>\n",
       "      <td>153.289</td>\n",
       "      <td>902.174</td>\n",
       "    </tr>\n",
       "    <tr>\n",
       "      <th>8</th>\n",
       "      <td>2414600126</td>\n",
       "      <td>20150415T000000</td>\n",
       "      <td>229500.0</td>\n",
       "      <td>3</td>\n",
       "      <td>1.00</td>\n",
       "      <td>165.366</td>\n",
       "      <td>693.980</td>\n",
       "      <td>1.0</td>\n",
       "      <td>0</td>\n",
       "      <td>0</td>\n",
       "      <td>...</td>\n",
       "      <td>7</td>\n",
       "      <td>97.547</td>\n",
       "      <td>67.819</td>\n",
       "      <td>1960</td>\n",
       "      <td>0</td>\n",
       "      <td>98146</td>\n",
       "      <td>47.5123</td>\n",
       "      <td>-122.337</td>\n",
       "      <td>165.366</td>\n",
       "      <td>753.716</td>\n",
       "    </tr>\n",
       "    <tr>\n",
       "      <th>9</th>\n",
       "      <td>3793500160</td>\n",
       "      <td>20150312T000000</td>\n",
       "      <td>323000.0</td>\n",
       "      <td>3</td>\n",
       "      <td>2.50</td>\n",
       "      <td>175.585</td>\n",
       "      <td>609.439</td>\n",
       "      <td>2.0</td>\n",
       "      <td>0</td>\n",
       "      <td>0</td>\n",
       "      <td>...</td>\n",
       "      <td>7</td>\n",
       "      <td>175.585</td>\n",
       "      <td>0.000</td>\n",
       "      <td>2003</td>\n",
       "      <td>0</td>\n",
       "      <td>98038</td>\n",
       "      <td>47.3684</td>\n",
       "      <td>-122.031</td>\n",
       "      <td>222.036</td>\n",
       "      <td>703.270</td>\n",
       "    </tr>\n",
       "  </tbody>\n",
       "</table>\n",
       "<p>10 rows × 21 columns</p>\n",
       "</div>"
      ],
      "text/plain": [
       "           id             date      price  bedrooms  bathrooms  sqft_living  \\\n",
       "0  7129300520  20141013T000000   221900.0         3       1.00      109.625   \n",
       "1  6414100192  20141209T000000   538000.0         3       2.25      238.759   \n",
       "2  5631500400  20150225T000000   180000.0         2       1.00       71.535   \n",
       "3  2487200875  20141209T000000   604000.0         4       3.00      182.088   \n",
       "4  1954400510  20150218T000000   510000.0         3       2.00      156.076   \n",
       "5  7237550310  20140512T000000  1225000.0         4       4.50      503.530   \n",
       "6  1321400060  20140627T000000   257500.0         3       2.25      159.327   \n",
       "7  2008000270  20150115T000000   291850.0         3       1.50       98.476   \n",
       "8  2414600126  20150415T000000   229500.0         3       1.00      165.366   \n",
       "9  3793500160  20150312T000000   323000.0         3       2.50      175.585   \n",
       "\n",
       "   sqft_lot  floors  waterfront  view  ...  grade  sqft_above  sqft_basement  \\\n",
       "0   524.898     1.0           0     0  ...      7     109.625          0.000   \n",
       "1   672.798     2.0           0     0  ...      7     201.598         37.161   \n",
       "2   929.023     1.0           0     0  ...      6      71.535          0.000   \n",
       "3   464.511     1.0           0     0  ...      7      97.547         84.541   \n",
       "4   750.650     1.0           0     0  ...      8     156.076          0.000   \n",
       "5  9469.528     1.0           0     0  ...     11     361.390        142.140   \n",
       "6   633.501     2.0           0     0  ...      7     159.327          0.000   \n",
       "7   902.174     1.0           0     0  ...      7      98.476          0.000   \n",
       "8   693.980     1.0           0     0  ...      7      97.547         67.819   \n",
       "9   609.439     2.0           0     0  ...      7     175.585          0.000   \n",
       "\n",
       "   yr_built  yr_renovated  zipcode      lat     long  sqft_living15  \\\n",
       "0      1955             0    98178  47.5112 -122.257        124.489   \n",
       "1      1951          1991    98125  47.7210 -122.319        157.005   \n",
       "2      1933             0    98028  47.7379 -122.233        252.694   \n",
       "3      1965             0    98136  47.5208 -122.393        126.347   \n",
       "4      1987             0    98074  47.6168 -122.045        167.224   \n",
       "5      2001             0    98053  47.6561 -122.005        442.215   \n",
       "6      1995             0    98003  47.3097 -122.327        207.915   \n",
       "7      1963             0    98198  47.4095 -122.315        153.289   \n",
       "8      1960             0    98146  47.5123 -122.337        165.366   \n",
       "9      2003             0    98038  47.3684 -122.031        222.036   \n",
       "\n",
       "   sqft_lot15  \n",
       "0     524.898  \n",
       "1     709.680  \n",
       "2     748.978  \n",
       "3     464.511  \n",
       "4     697.046  \n",
       "5    9469.528  \n",
       "6     633.501  \n",
       "7     902.174  \n",
       "8     753.716  \n",
       "9     703.270  \n",
       "\n",
       "[10 rows x 21 columns]"
      ]
     },
     "execution_count": 4,
     "metadata": {},
     "output_type": "execute_result"
    }
   ],
   "source": [
    "df['sqft_living'] = (df['sqft_living'] / 10.764).round(3)\n",
    "df['sqft_lot'] = (df['sqft_lot'] / 10.764).round(3)\n",
    "df['sqft_above'] = (df['sqft_above'] / 10.764).round(3)\n",
    "df['sqft_basement'] = (df['sqft_basement'] / 10.764).round(3)\n",
    "df['sqft_living15'] = (df['sqft_living15'] / 10.764).round(3)\n",
    "df['sqft_lot15'] = (df['sqft_lot15'] / 10.764).round(3)\n",
    "\n",
    "df.head(10)"
   ]
  },
  {
   "cell_type": "markdown",
   "metadata": {},
   "source": [
    "#### Verificando NaN"
   ]
  },
  {
   "cell_type": "code",
   "execution_count": 5,
   "metadata": {},
   "outputs": [
    {
     "name": "stdout",
     "output_type": "stream",
     "text": [
      "id               0\n",
      "date             0\n",
      "price            0\n",
      "bedrooms         0\n",
      "bathrooms        0\n",
      "sqft_living      0\n",
      "sqft_lot         0\n",
      "floors           0\n",
      "waterfront       0\n",
      "view             0\n",
      "condition        0\n",
      "grade            0\n",
      "sqft_above       0\n",
      "sqft_basement    0\n",
      "yr_built         0\n",
      "yr_renovated     0\n",
      "zipcode          0\n",
      "lat              0\n",
      "long             0\n",
      "sqft_living15    0\n",
      "sqft_lot15       0\n",
      "dtype: int64\n"
     ]
    }
   ],
   "source": [
    "print(df.isna().sum())"
   ]
  },
  {
   "cell_type": "markdown",
   "metadata": {},
   "source": [
    "É possivel observar que o DataFrame não possui valores NaN"
   ]
  },
  {
   "cell_type": "markdown",
   "metadata": {},
   "source": [
    "### Qual é o principal atrativo das casas mais visitadas?"
   ]
  },
  {
   "cell_type": "code",
   "execution_count": 6,
   "metadata": {},
   "outputs": [
    {
     "data": {
      "text/plain": [
       "view             1.000000\n",
       "waterfront       0.401857\n",
       "price            0.397293\n",
       "sqft_living      0.284611\n",
       "sqft_living15    0.280439\n",
       "sqft_basement    0.276947\n",
       "Name: view, dtype: float64"
      ]
     },
     "execution_count": 6,
     "metadata": {},
     "output_type": "execute_result"
    }
   ],
   "source": [
    "# descobrindo as correlações com a varial 'view'\n",
    "df.corr()['view'].sort_values(ascending=False).head(6)"
   ]
  },
  {
   "cell_type": "markdown",
   "metadata": {},
   "source": [
    "Será utilizado as duas variaveis que possuem a maior correlação com a variavel **view** para a analise em questão."
   ]
  },
  {
   "cell_type": "code",
   "execution_count": 7,
   "metadata": {},
   "outputs": [
    {
     "data": {
      "image/png": "[encoded data removed]",
      "text/plain": [
       "<Figure size 420.125x360 with 1 Axes>"
      ]
     },
     "metadata": {
      "needs_background": "light"
     },
     "output_type": "display_data"
    }
   ],
   "source": [
    "ax_2 = sns.catplot(x=\"view\", y=\"price\", hue=\"waterfront\", data=df)\n",
    "\n",
    "ax_2.set_axis_labels(\"Visitas\", \"Preço\")\n",
    "plt.title(\"Visitas para casas com vista para a água\")\n",
    "\n",
    "plt.show()"
   ]
  },
  {
   "cell_type": "markdown",
   "metadata": {},
   "source": [
    "As casas mais visitadas foram classificadas entre **0** para menos visitas e **4** para as mais visitadas.\n",
    "\n",
    "O grafico indica que **as casas mais visitadas são aquelas que possuem vista para a água** (**waterfront**), onde **0** (em azul) representa as casas que não possuem vista para água e **1** (em laranja) representam as casas que possuem vista para a água. "
   ]
  },
  {
   "cell_type": "markdown",
   "metadata": {},
   "source": [
    "### Investigando a correlação das variaveis com as notas de qualidade das casas"
   ]
  },
  {
   "cell_type": "markdown",
   "metadata": {},
   "source": [
    "Será utilizado o metodo de correlação de <a href=\"https://operdata.com.br/blog/coeficientes-de-correlacao/\">**Spearman**</a> afim de entender quais variaveis possuem uma correlação mais forte com as notas de qualidade das casas. O metodo de Spearman possui um grau de correlação de variaveis não só quantitativas como também variaveis do tipo ordinal; e as classificam entre -1 e 1. Se o resultado que está proximo de 0 indica que não há correlação entre as variaves. Assim, quanto mais proximo de -1 ou 1 mais forte é a correlação.\n",
    "\n",
    "Nesse caso iremos observar a correlação com variavel **grade**. "
   ]
  },
  {
   "cell_type": "code",
   "execution_count": 8,
   "metadata": {},
   "outputs": [
    {
     "data": {
      "text/plain": [
       "grade            1.000000\n",
       "sqft_living      0.716400\n",
       "sqft_above       0.711815\n",
       "sqft_living15    0.662635\n",
       "price            0.658215\n",
       "Name: grade, dtype: float64"
      ]
     },
     "execution_count": 8,
     "metadata": {},
     "output_type": "execute_result"
    }
   ],
   "source": [
    "df.corr(method='spearman')['grade'].sort_values(ascending=False).head()"
   ]
  },
  {
   "cell_type": "markdown",
   "metadata": {},
   "source": [
    "A variavel **sqft_living** possui a maior correlação com a variavel **grade**."
   ]
  },
  {
   "cell_type": "code",
   "execution_count": 24,
   "metadata": {},
   "outputs": [
    {
     "data": {
      "image/png": "[encoded data removed]",
      "text/plain": [
       "<Figure size 720x432 with 1 Axes>"
      ]
     },
     "metadata": {},
     "output_type": "display_data"
    }
   ],
   "source": [
    "sns.set_style('dark')\n",
    "plt.figure(figsize=[10,6])\n",
    "\n",
    "unicos = np.sort(df['grade'].unique()) # variavel responsavel por ordenar a coluna\n",
    "ax_1 = sns.barplot(x = 'sqft_living', y = 'grade', data = df, orient='h', palette=\"flare\", order= unicos[::-1]) # invertendo ordem no metodo order\n",
    "ax_1.set_title('Notas de qualidade pelo tamanho das casas', loc='center', fontsize=18)\n",
    "ax_1.set_xlabel('Tamanho das casas em m²', fontsize=14)\n",
    "ax_1.set_ylabel('Notas', fontsize=14)\n",
    "plt.show()"
   ]
  },
  {
   "cell_type": "markdown",
   "metadata": {},
   "source": [
    "É notavel que o tamanho da casa influência na sua nota de qualidade. Quanto maior o tamanho da casa (**sqft_living**), maior será a nota de qualidade segundo o King County (**grade**). "
   ]
  },
  {
   "cell_type": "markdown",
   "metadata": {},
   "source": [
    "### Analise exploratoria sobre o conjunto de dados"
   ]
  },
  {
   "cell_type": "code",
   "execution_count": 11,
   "metadata": {},
   "outputs": [
    {
     "name": "stdout",
     "output_type": "stream",
     "text": [
      "Existem 21613 observações no conjunto de dados\n",
      "Existem 21 variaveis no conjunto de dados\n",
      "O tamanho médio das casa é de 193.2 metros quadrados\n",
      "A mediana do tamanho das casas é de 177.443 metros quadrados\n",
      "primeiro quartil 132.572 do tamanho das casas\n",
      "terceiro quartil 236.901 do tamanho das casas\n"
     ]
    }
   ],
   "source": [
    "import numpy as np\n",
    "\n",
    "n_observacoes = len(df.index)\n",
    "n_variaveis = len(df.columns)\n",
    "media_casa = df['sqft_living'].mean()\n",
    "mediana_casa = np.percentile(df['sqft_living'], 50)\n",
    "q1 = np.percentile(df['sqft_living'], 25, interpolation = 'midpoint')\n",
    "q3 = np.percentile(df['sqft_living'], 75, interpolation = 'midpoint')\n",
    "\n",
    "print('Existem {} observações no conjunto de dados'.format(n_observacoes))\n",
    "print('Existem {} variaveis no conjunto de dados'.format(n_variaveis))\n",
    "print('O tamanho médio das casa é de {:.1f} metros quadrados'.format(media_casa))\n",
    "print('A mediana do tamanho das casas é de {} metros quadrados'.format(mediana_casa))\n",
    "\n",
    "print('primeiro quartil {} do tamanho das casas'.format(q1))\n",
    "print('terceiro quartil {} do tamanho das casas'.format(q3))"
   ]
  },
  {
   "cell_type": "markdown",
   "metadata": {},
   "source": [
    "Verificando existencia de outliers no preço das casas"
   ]
  },
  {
   "cell_type": "code",
   "execution_count": 12,
   "metadata": {},
   "outputs": [
    {
     "data": {
      "image/png": "[encoded data removed]",
      "text/plain": [
       "<Figure size 432x432 with 1 Axes>"
      ]
     },
     "metadata": {},
     "output_type": "display_data"
    }
   ],
   "source": [
    "fig1, ax1 = plt.subplots(figsize=[6,6])\n",
    "ax1.set_title('Tamanho das Casas')\n",
    "ax1.boxplot(df['sqft_living'])\n",
    "plt.show()"
   ]
  },
  {
   "cell_type": "markdown",
   "metadata": {},
   "source": [
    "Existe uma quantidade significativa de casas que possuem o tamanho muito acima do limite superior do boxsplot, o que configura a presença de outliers."
   ]
  },
  {
   "cell_type": "markdown",
   "metadata": {},
   "source": [
    "##### Removendo outliers do preço das casas"
   ]
  },
  {
   "cell_type": "code",
   "execution_count": 14,
   "metadata": {},
   "outputs": [
    {
     "name": "stderr",
     "output_type": "stream",
     "text": [
      "C:\\Users\\brodr\\AppData\\Local\\Temp\\ipykernel_2980\\4259767974.py:1: DeprecationWarning: the `interpolation=` argument to percentile was renamed to `method=`, which has additional options.\n",
      "Users of the modes 'nearest', 'lower', 'higher', or 'midpoint' are encouraged to review the method they. (Deprecated NumPy 1.22)\n",
      "  q1_price = np.percentile(df['price'], 25, interpolation = 'midpoint')\n",
      "C:\\Users\\brodr\\AppData\\Local\\Temp\\ipykernel_2980\\4259767974.py:2: DeprecationWarning: the `interpolation=` argument to percentile was renamed to `method=`, which has additional options.\n",
      "Users of the modes 'nearest', 'lower', 'higher', or 'midpoint' are encouraged to review the method they. (Deprecated NumPy 1.22)\n",
      "  q3_price = np.percentile(df['price'], 75, interpolation = 'midpoint')\n"
     ]
    }
   ],
   "source": [
    "q1_price = np.percentile(df['price'], 25, interpolation = 'midpoint')\n",
    "q3_price = np.percentile(df['price'], 75, interpolation = 'midpoint')\n",
    "\n",
    "lim_superior = q3_price + 1.5 * (q3_price - q1_price)\n",
    "df_preco = df[(df['price'] < lim_superior)]\n",
    "df_vista = df[(df['waterfront'] != 0) & (df['price'] < 4062500.0)] # removendo os principais outliers mas conservando a variavel 'waterfront'\n",
    "df_sem_outlier = pd.concat([df_preco, df_vista])\n"
   ]
  },
  {
   "cell_type": "code",
   "execution_count": 15,
   "metadata": {},
   "outputs": [
    {
     "data": {
      "image/png": "[encoded data removed]",
      "text/plain": [
       "<Figure size 432x432 with 1 Axes>"
      ]
     },
     "metadata": {},
     "output_type": "display_data"
    }
   ],
   "source": [
    "fig2, ax2 = plt.subplots(figsize=[6,6])\n",
    "ax2.set_title('Preço das Casas')\n",
    "ax2.boxplot(df_sem_outlier['price'])\n",
    "plt.show()\n"
   ]
  },
  {
   "cell_type": "markdown",
   "metadata": {},
   "source": [
    "Nota-se que não houve a remoção completa do outliers. A remoção de todos os outliers enviesa os resultados da coluna 'waterfront', que possui a maior parte das casas mais caras; por isso julguei ser importante para os resultados dos modelos a permanencia desse dado."
   ]
  },
  {
   "cell_type": "markdown",
   "metadata": {},
   "source": [
    "### Construindo modelo de regressão linear com **statsmodels.api**.\n"
   ]
  },
  {
   "cell_type": "code",
   "execution_count": 13,
   "metadata": {},
   "outputs": [],
   "source": [
    "import statsmodels.api as sm\n",
    "from patsy import dmatrices"
   ]
  },
  {
   "cell_type": "code",
   "execution_count": 16,
   "metadata": {},
   "outputs": [],
   "source": [
    "y, X = dmatrices('price ~ grade + sqft_living + sqft_living15 + sqft_above + bathrooms + lat + bedrooms + floors + view + sqft_basement + sqft_lot + yr_renovated + sqft_lot15 + yr_built + waterfront + condition', data=df_sem_outlier, return_type='dataframe')\n",
    "mod = sm.OLS(y, X)\n",
    "res = mod.fit()"
   ]
  },
  {
   "cell_type": "code",
   "execution_count": 17,
   "metadata": {},
   "outputs": [
    {
     "data": {
      "text/html": [
       "<table class=\"simpletable\">\n",
       "<caption>OLS Regression Results</caption>\n",
       "<tr>\n",
       "  <th>Dep. Variable:</th>          <td>price</td>      <th>  R-squared:         </th>  <td>   0.699</td>  \n",
       "</tr>\n",
       "<tr>\n",
       "  <th>Model:</th>                   <td>OLS</td>       <th>  Adj. R-squared:    </th>  <td>   0.699</td>  \n",
       "</tr>\n",
       "<tr>\n",
       "  <th>Method:</th>             <td>Least Squares</td>  <th>  F-statistic:       </th>  <td>   2989.</td>  \n",
       "</tr>\n",
       "<tr>\n",
       "  <th>Date:</th>             <td>Thu, 23 Jun 2022</td> <th>  Prob (F-statistic):</th>   <td>  0.00</td>   \n",
       "</tr>\n",
       "<tr>\n",
       "  <th>Time:</th>                 <td>15:57:07</td>     <th>  Log-Likelihood:    </th> <td>-2.7248e+05</td>\n",
       "</tr>\n",
       "<tr>\n",
       "  <th>No. Observations:</th>      <td> 20625</td>      <th>  AIC:               </th>  <td>5.450e+05</td> \n",
       "</tr>\n",
       "<tr>\n",
       "  <th>Df Residuals:</th>          <td> 20608</td>      <th>  BIC:               </th>  <td>5.451e+05</td> \n",
       "</tr>\n",
       "<tr>\n",
       "  <th>Df Model:</th>              <td>    16</td>      <th>                     </th>      <td> </td>     \n",
       "</tr>\n",
       "<tr>\n",
       "  <th>Covariance Type:</th>      <td>nonrobust</td>    <th>                     </th>      <td> </td>     \n",
       "</tr>\n",
       "</table>\n",
       "<table class=\"simpletable\">\n",
       "<tr>\n",
       "        <td></td>           <th>coef</th>     <th>std err</th>      <th>t</th>      <th>P>|t|</th>  <th>[0.025</th>    <th>0.975]</th>  \n",
       "</tr>\n",
       "<tr>\n",
       "  <th>Intercept</th>     <td>-2.316e+07</td> <td> 3.62e+05</td> <td>  -63.971</td> <td> 0.000</td> <td>-2.39e+07</td> <td>-2.25e+07</td>\n",
       "</tr>\n",
       "<tr>\n",
       "  <th>grade</th>         <td> 7.578e+04</td> <td> 1468.556</td> <td>   51.602</td> <td> 0.000</td> <td> 7.29e+04</td> <td> 7.87e+04</td>\n",
       "</tr>\n",
       "<tr>\n",
       "  <th>sqft_living</th>   <td> 9.175e+06</td> <td> 2.86e+06</td> <td>    3.205</td> <td> 0.001</td> <td> 3.56e+06</td> <td> 1.48e+07</td>\n",
       "</tr>\n",
       "<tr>\n",
       "  <th>sqft_living15</th> <td>  518.6452</td> <td>   26.287</td> <td>   19.730</td> <td> 0.000</td> <td>  467.120</td> <td>  570.170</td>\n",
       "</tr>\n",
       "<tr>\n",
       "  <th>sqft_above</th>    <td>-9.174e+06</td> <td> 2.86e+06</td> <td>   -3.205</td> <td> 0.001</td> <td>-1.48e+07</td> <td>-3.56e+06</td>\n",
       "</tr>\n",
       "<tr>\n",
       "  <th>bathrooms</th>     <td>  2.26e+04</td> <td> 2243.415</td> <td>   10.074</td> <td> 0.000</td> <td> 1.82e+04</td> <td>  2.7e+04</td>\n",
       "</tr>\n",
       "<tr>\n",
       "  <th>lat</th>           <td>  5.49e+05</td> <td> 6939.185</td> <td>   79.113</td> <td> 0.000</td> <td> 5.35e+05</td> <td> 5.63e+05</td>\n",
       "</tr>\n",
       "<tr>\n",
       "  <th>bedrooms</th>      <td>-1.158e+04</td> <td> 1295.970</td> <td>   -8.932</td> <td> 0.000</td> <td>-1.41e+04</td> <td>-9035.908</td>\n",
       "</tr>\n",
       "<tr>\n",
       "  <th>floors</th>        <td> 2.849e+04</td> <td> 2435.565</td> <td>   11.697</td> <td> 0.000</td> <td> 2.37e+04</td> <td> 3.33e+04</td>\n",
       "</tr>\n",
       "<tr>\n",
       "  <th>view</th>          <td> 2.865e+04</td> <td> 1584.644</td> <td>   18.081</td> <td> 0.000</td> <td> 2.55e+04</td> <td> 3.18e+04</td>\n",
       "</tr>\n",
       "<tr>\n",
       "  <th>sqft_basement</th> <td>-9.174e+06</td> <td> 2.86e+06</td> <td>   -3.205</td> <td> 0.001</td> <td>-1.48e+07</td> <td>-3.56e+06</td>\n",
       "</tr>\n",
       "<tr>\n",
       "  <th>sqft_lot</th>      <td>    2.3539</td> <td>    0.351</td> <td>    6.704</td> <td> 0.000</td> <td>    1.666</td> <td>    3.042</td>\n",
       "</tr>\n",
       "<tr>\n",
       "  <th>yr_renovated</th>  <td>    9.5548</td> <td>    2.545</td> <td>    3.755</td> <td> 0.000</td> <td>    4.567</td> <td>   14.542</td>\n",
       "</tr>\n",
       "<tr>\n",
       "  <th>sqft_lot15</th>    <td>   -2.4095</td> <td>    0.535</td> <td>   -4.500</td> <td> 0.000</td> <td>   -3.459</td> <td>   -1.360</td>\n",
       "</tr>\n",
       "<tr>\n",
       "  <th>yr_built</th>      <td>-1749.9232</td> <td>   47.237</td> <td>  -37.045</td> <td> 0.000</td> <td>-1842.512</td> <td>-1657.334</td>\n",
       "</tr>\n",
       "<tr>\n",
       "  <th>waterfront</th>    <td> 5.608e+05</td> <td> 1.05e+04</td> <td>   53.220</td> <td> 0.000</td> <td>  5.4e+05</td> <td> 5.81e+05</td>\n",
       "</tr>\n",
       "<tr>\n",
       "  <th>condition</th>     <td> 2.868e+04</td> <td> 1570.348</td> <td>   18.265</td> <td> 0.000</td> <td> 2.56e+04</td> <td> 3.18e+04</td>\n",
       "</tr>\n",
       "</table>\n",
       "<table class=\"simpletable\">\n",
       "<tr>\n",
       "  <th>Omnibus:</th>       <td>10659.580</td> <th>  Durbin-Watson:     </th>  <td>   1.905</td> \n",
       "</tr>\n",
       "<tr>\n",
       "  <th>Prob(Omnibus):</th>  <td> 0.000</td>   <th>  Jarque-Bera (JB):  </th> <td>408220.128</td>\n",
       "</tr>\n",
       "<tr>\n",
       "  <th>Skew:</th>           <td> 1.831</td>   <th>  Prob(JB):          </th>  <td>    0.00</td> \n",
       "</tr>\n",
       "<tr>\n",
       "  <th>Kurtosis:</th>       <td>24.485</td>   <th>  Cond. No.          </th>  <td>2.49e+07</td> \n",
       "</tr>\n",
       "</table><br/><br/>Notes:<br/>[1] Standard Errors assume that the covariance matrix of the errors is correctly specified.<br/>[2] The condition number is large, 2.49e+07. This might indicate that there are<br/>strong multicollinearity or other numerical problems."
      ],
      "text/plain": [
       "<class 'statsmodels.iolib.summary.Summary'>\n",
       "\"\"\"\n",
       "                            OLS Regression Results                            \n",
       "==============================================================================\n",
       "Dep. Variable:                  price   R-squared:                       0.699\n",
       "Model:                            OLS   Adj. R-squared:                  0.699\n",
       "Method:                 Least Squares   F-statistic:                     2989.\n",
       "Date:                Thu, 23 Jun 2022   Prob (F-statistic):               0.00\n",
       "Time:                        15:57:07   Log-Likelihood:            -2.7248e+05\n",
       "No. Observations:               20625   AIC:                         5.450e+05\n",
       "Df Residuals:                   20608   BIC:                         5.451e+05\n",
       "Df Model:                          16                                         \n",
       "Covariance Type:            nonrobust                                         \n",
       "=================================================================================\n",
       "                    coef    std err          t      P>|t|      [0.025      0.975]\n",
       "---------------------------------------------------------------------------------\n",
       "Intercept     -2.316e+07   3.62e+05    -63.971      0.000   -2.39e+07   -2.25e+07\n",
       "grade          7.578e+04   1468.556     51.602      0.000    7.29e+04    7.87e+04\n",
       "sqft_living    9.175e+06   2.86e+06      3.205      0.001    3.56e+06    1.48e+07\n",
       "sqft_living15   518.6452     26.287     19.730      0.000     467.120     570.170\n",
       "sqft_above    -9.174e+06   2.86e+06     -3.205      0.001   -1.48e+07   -3.56e+06\n",
       "bathrooms       2.26e+04   2243.415     10.074      0.000    1.82e+04     2.7e+04\n",
       "lat             5.49e+05   6939.185     79.113      0.000    5.35e+05    5.63e+05\n",
       "bedrooms      -1.158e+04   1295.970     -8.932      0.000   -1.41e+04   -9035.908\n",
       "floors         2.849e+04   2435.565     11.697      0.000    2.37e+04    3.33e+04\n",
       "view           2.865e+04   1584.644     18.081      0.000    2.55e+04    3.18e+04\n",
       "sqft_basement -9.174e+06   2.86e+06     -3.205      0.001   -1.48e+07   -3.56e+06\n",
       "sqft_lot          2.3539      0.351      6.704      0.000       1.666       3.042\n",
       "yr_renovated      9.5548      2.545      3.755      0.000       4.567      14.542\n",
       "sqft_lot15       -2.4095      0.535     -4.500      0.000      -3.459      -1.360\n",
       "yr_built      -1749.9232     47.237    -37.045      0.000   -1842.512   -1657.334\n",
       "waterfront     5.608e+05   1.05e+04     53.220      0.000     5.4e+05    5.81e+05\n",
       "condition      2.868e+04   1570.348     18.265      0.000    2.56e+04    3.18e+04\n",
       "==============================================================================\n",
       "Omnibus:                    10659.580   Durbin-Watson:                   1.905\n",
       "Prob(Omnibus):                  0.000   Jarque-Bera (JB):           408220.128\n",
       "Skew:                           1.831   Prob(JB):                         0.00\n",
       "Kurtosis:                      24.485   Cond. No.                     2.49e+07\n",
       "==============================================================================\n",
       "\n",
       "Notes:\n",
       "[1] Standard Errors assume that the covariance matrix of the errors is correctly specified.\n",
       "[2] The condition number is large, 2.49e+07. This might indicate that there are\n",
       "strong multicollinearity or other numerical problems.\n",
       "\"\"\""
      ]
     },
     "execution_count": 17,
     "metadata": {},
     "output_type": "execute_result"
    }
   ],
   "source": [
    "res.summary()"
   ]
  },
  {
   "cell_type": "markdown",
   "metadata": {},
   "source": [
    "### Construindo modelo de regressão linear com **sklearn**."
   ]
  },
  {
   "cell_type": "code",
   "execution_count": 18,
   "metadata": {},
   "outputs": [],
   "source": [
    "from sklearn.model_selection import train_test_split\n",
    "from sklearn.linear_model import LinearRegression\n",
    "from sklearn.preprocessing import StandardScaler\n",
    "from sklearn.metrics import r2_score, mean_absolute_error\n"
   ]
  },
  {
   "cell_type": "code",
   "execution_count": 19,
   "metadata": {},
   "outputs": [],
   "source": [
    "df_1 = df_sem_outlier\n",
    "\n",
    "X = df_1.drop(['price', 'date', 'id', 'zipcode'], axis= 1)\n",
    "y = df_1.price\n",
    "\n",
    "X_std = StandardScaler().fit_transform(X)\n",
    "X_train, X_test, y_train, y_test = train_test_split(X_std, y, test_size = 0.2, random_state=10)\n",
    "lr = LinearRegression()\n",
    "lr.fit(X_train, y_train)\n",
    "y_pred = lr.predict(X_test)"
   ]
  },
  {
   "cell_type": "code",
   "execution_count": 20,
   "metadata": {},
   "outputs": [
    {
     "name": "stdout",
     "output_type": "stream",
     "text": [
      "Valor R²: 0.689\n",
      "Valor MAE: 92966.761\n"
     ]
    }
   ],
   "source": [
    "print(f'Valor R²: {r2_score(y_test, y_pred):.3f}')\n",
    "print(f'Valor MAE: {mean_absolute_error(y_test, y_pred):.3f}')"
   ]
  },
  {
   "cell_type": "markdown",
   "metadata": {},
   "source": [
    "Selecionando as 5 variaveis mais importantes usando **RFE**."
   ]
  },
  {
   "cell_type": "code",
   "execution_count": 21,
   "metadata": {},
   "outputs": [],
   "source": [
    "from sklearn.feature_selection import RFE\n",
    "\n",
    "df_2 = df_sem_outlier\n",
    "\n",
    "X = df_2.drop(['price', 'date', 'id', 'zipcode'], axis= 1)\n",
    "y = df_2.price\n",
    "\n",
    "X_std = StandardScaler().fit_transform(X)\n",
    "\n",
    "lr_2 = LinearRegression()\n",
    "selecionar_colunas = RFE(lr_2, n_features_to_select= 5, step= 1)\n",
    "selecionar_colunas = selecionar_colunas.fit(X, y)"
   ]
  },
  {
   "cell_type": "code",
   "execution_count": 22,
   "metadata": {},
   "outputs": [
    {
     "name": "stdout",
     "output_type": "stream",
     "text": [
      "['sqft_living' 'waterfront' 'sqft_above' 'sqft_basement' 'lat']\n"
     ]
    }
   ],
   "source": [
    "print(selecionar_colunas.get_feature_names_out())"
   ]
  },
  {
   "cell_type": "markdown",
   "metadata": {},
   "source": [
    "Essas são as 5 variaveis mais importantes: **sqft_living**, **waterfront**, **sqft_above**, **sqft_basement** e **lat**."
   ]
  },
  {
   "cell_type": "markdown",
   "metadata": {},
   "source": [
    "Verificando o ${R}^{2}$ e $MAE$ do modelo usando as 5 variaveis definidas pelo **RFE**."
   ]
  },
  {
   "cell_type": "code",
   "execution_count": 23,
   "metadata": {},
   "outputs": [
    {
     "name": "stdout",
     "output_type": "stream",
     "text": [
      "Valor R²: 0.601\n",
      "Valor MAE: 108797.796\n"
     ]
    }
   ],
   "source": [
    "\n",
    "X = df_2[['sqft_living', 'waterfront', 'sqft_above', 'sqft_basement', 'lat']] # features do seletor\n",
    "y = df_2.price\n",
    "\n",
    "X_std = StandardScaler().fit_transform(X)\n",
    "\n",
    "X_train, X_test, y_train, y_test = train_test_split(X_std, y, test_size = 0.2, random_state=10)\n",
    "\n",
    "lr = LinearRegression()\n",
    "lr.fit(X_train, y_train)\n",
    "y_pred = lr.predict(X_test)\n",
    "\n",
    "print(f'Valor R²: {r2_score(y_test, y_pred):.3f}')\n",
    "print(f'Valor MAE: {mean_absolute_error(y_test, y_pred):.3f}')"
   ]
  },
  {
   "cell_type": "markdown",
   "metadata": {},
   "source": [
    "O modelo anterior é melhor por possuir o **R²** mais proximo de 1.0 e o erro médio absoluto menor (**MAE**)."
   ]
  }
 ],
 "metadata": {
  "kernelspec": {
   "display_name": "Python 3.10.5 64-bit (windows store)",
   "language": "python",
   "name": "python3"
  },
  "language_info": {
   "codemirror_mode": {
    "name": "ipython",
    "version": 3
   },
   "file_extension": ".py",
   "mimetype": "text/x-python",
   "name": "python",
   "nbconvert_exporter": "python",
   "pygments_lexer": "ipython3",
   "version": "3.10.5"
  },
  "vscode": {
   "interpreter": {
    "hash": "a4d3a12a32c0be7925184f3d870d5cd51c51a5953d50b00dae1651ee1ae506db"
   }
  }
 },
 "nbformat": 4,
 "nbformat_minor": 4
}
